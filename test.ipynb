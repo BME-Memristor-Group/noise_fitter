{
 "cells": [
  {
   "cell_type": "code",
   "execution_count": 2,
   "metadata": {},
   "outputs": [
    {
     "ename": "NameError",
     "evalue": "name 'sample' is not defined",
     "output_type": "error",
     "traceback": [
      "\u001b[0;31m---------------------------------------------------------------------------\u001b[0m",
      "\u001b[0;31mNameError\u001b[0m                                 Traceback (most recent call last)",
      "Cell \u001b[0;32mIn[2], line 13\u001b[0m\n\u001b[1;32m      9\u001b[0m     rSer\u001b[38;5;241m=\u001b[39m bi[\u001b[38;5;241m5\u001b[39m]\n\u001b[1;32m     10\u001b[0m     \u001b[38;5;28mprint\u001b[39m(sample, gain, rSer)\n\u001b[0;32m---> 13\u001b[0m \u001b[43mload_file\u001b[49m\u001b[43m(\u001b[49m\u001b[38;5;124;43m\"\u001b[39;49m\u001b[38;5;124;43m_old/test0\u001b[39;49m\u001b[38;5;124;43m\"\u001b[39;49m\u001b[43m)\u001b[49m\n",
      "Cell \u001b[0;32mIn[2], line 10\u001b[0m, in \u001b[0;36mload_file\u001b[0;34m(file)\u001b[0m\n\u001b[1;32m      8\u001b[0m gain \u001b[38;5;241m=\u001b[39m bi[\u001b[38;5;241m4\u001b[39m]\n\u001b[1;32m      9\u001b[0m rSer\u001b[38;5;241m=\u001b[39m bi[\u001b[38;5;241m5\u001b[39m]\n\u001b[0;32m---> 10\u001b[0m \u001b[38;5;28mprint\u001b[39m(\u001b[43msample\u001b[49m, gain, rSer)\n",
      "\u001b[0;31mNameError\u001b[0m: name 'sample' is not defined"
     ]
    }
   ],
   "source": [
    "import numpy as np\n",
    "import pandas as pd\n",
    "from scipy import interpolate\n"
   ]
  },
  {
   "cell_type": "code",
   "execution_count": 19,
   "metadata": {},
   "outputs": [
    {
     "name": "stdout",
     "output_type": "stream",
     "text": [
      "[-0.5]\n"
     ]
    }
   ],
   "source": [
    "\n",
    "def load_file(file):\n",
    "    bi = np.fromfile(file, dtype=np.float32)\n",
    "    \n",
    "    # Get metadata from binary file\n",
    "    chMode = bi[0]\n",
    "    coupling = bi[1]\n",
    "    sampleRate = bi[2] \n",
    "    mode = bi[3]\n",
    "    gain = bi[4]\n",
    "    rSer= bi[5]\n",
    "    measMode = bi[19]\n",
    "    progOff=0\n",
    "    length = bi[20] # length in seconds\n",
    "\n",
    "    if measMode != 3:\n",
    "         agilentOff=0\n",
    "         cardOff=0\n",
    "         biasDiv=0\n",
    "         agilentTime=0\n",
    "         rcTime=0\n",
    "    else:\n",
    "         agilentOff=bi[6]\n",
    "         cardOff=bi[7]\n",
    "         biasDiv=bi[8]\n",
    "         agilentTime=bi[9]\n",
    "         rcTime=bi[10]\n",
    "\n",
    "    # filename from input\n",
    "    fileName = file.split(\"/\")[-1]\n",
    "\n",
    "    # Number of segments influencing the data [metadata(22) -> segment(numOfSegments*3) -> data(remaining)]\n",
    "    numOfSegments = int(bi[21])\n",
    "    \n",
    "    # Segment data -> [length, start, end]\n",
    "    endOfSegmentsIndex = 22 + (numOfSegments * 3)\n",
    "    segmentArray = bi[22:endOfSegmentsIndex].reshape(3,numOfSegments)\n",
    "    \n",
    "    segmentArray[0] *= length/65535 # length in points, uint16 max value is 65535, this is a weird labview thing\n",
    "    segmentArray[1] *= 1000 # Convert to mV\n",
    "    segmentArray[2] *= 1000 # Convert to mV\n",
    "    # Data is (V)\n",
    "    rawData = bi[endOfSegmentsIndex:]\n",
    "\n",
    "    if mode == 1:\n",
    "         rawData = rawData/gain\n",
    "         resistance = rawData\n",
    "         \n",
    "\n",
    "\n",
    "load_file(\"_old/test0\")"
   ]
  },
  {
   "cell_type": "code",
   "execution_count": null,
   "metadata": {},
   "outputs": [],
   "source": []
  }
 ],
 "metadata": {
  "kernelspec": {
   "display_name": "Python 3",
   "language": "python",
   "name": "python3"
  },
  "language_info": {
   "codemirror_mode": {
    "name": "ipython",
    "version": 3
   },
   "file_extension": ".py",
   "mimetype": "text/x-python",
   "name": "python",
   "nbconvert_exporter": "python",
   "pygments_lexer": "ipython3",
   "version": "3.12.3"
  }
 },
 "nbformat": 4,
 "nbformat_minor": 2
}
