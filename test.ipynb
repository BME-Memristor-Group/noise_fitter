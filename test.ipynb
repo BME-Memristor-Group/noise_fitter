{
 "cells": [
  {
   "cell_type": "code",
   "execution_count": 51,
   "metadata": {},
   "outputs": [],
   "source": [
    "import numpy as np\n",
    "import pandas as pd\n",
    "from scipy import interpolate\n",
    "from matplotlib import pyplot as plt\n"
   ]
  },
  {
   "cell_type": "code",
   "execution_count": 99,
   "metadata": {},
   "outputs": [
    {
     "name": "stdout",
     "output_type": "stream",
     "text": [
      "0.0043289981686965\n"
     ]
    },
    {
     "data": {
      "image/png": "[encoded data removed]",
      "text/plain": [
       "<Figure size 640x480 with 1 Axes>"
      ]
     },
     "metadata": {},
     "output_type": "display_data"
    }
   ],
   "source": [
    "\n",
    "def load_file(file):\n",
    "\tbi = np.fromfile(file, dtype=np.float32)\n",
    "\n",
    "\t# Get metadata from binary file\n",
    "\tchMode = bi[0]\n",
    "\tcoupling = bi[1]\n",
    "\tsampleRate = bi[2] \n",
    "\tmode = bi[3]\n",
    "\tgain = bi[4]\n",
    "\trSer= bi[5]\n",
    "\tmeasMode = bi[19]\n",
    "\tprogOff=0\n",
    "\tlength = bi[20] # length in seconds\n",
    "\n",
    "\tif measMode != 3:\n",
    "\t\tagilentOff=0\n",
    "\t\tcardOff=0\n",
    "\t\tbiasDiv=0\n",
    "\t\tagilentTime=0\n",
    "\t\trcTime=0\n",
    "\telse:\n",
    "\t\tagilentOff=bi[6]\n",
    "\t\tcardOff=bi[7]\n",
    "\t\tbiasDiv=bi[8]\n",
    "\t\tagilentTime=bi[9]\n",
    "\t\trcTime=bi[10]\n",
    "\n",
    "\t# filename from input\n",
    "\tfileName = file.split(\"/\")[-1]\n",
    "\n",
    "\t# Number of segments influencing the data [metadata(22) -> segment(numOfSegments*3) -> data(remaining)]\n",
    "\tnumOfSegments = int(bi[21])\n",
    "\t\n",
    "\n",
    "\t# Segment data -> [length, start, end]\n",
    "\tendOfSegmentsIndex = 22 + (numOfSegments * 3)\n",
    "\tsegmentArray = bi[22:endOfSegmentsIndex].reshape(numOfSegments,3).T\n",
    "\n",
    "\t# Data is (V)\n",
    "\trawData = bi[endOfSegmentsIndex:]\n",
    "\n",
    "\t# this snippet is used to generate the arbitrary signal for the fixed length of 65535\n",
    "\t# i know it looks magic, sry for that\n",
    "\t# what it does is first generate a signal for the fixed length of 65535 and then scales back it according to the length of the rawData\n",
    "\t# commented arbSignalFixed can help with understanding\n",
    "\t# this signal is in (V)\n",
    "\n",
    "\tcons = 65535\n",
    "\trLen = len(rawData)\n",
    "\t#arbSignalFixed = np.zeros(cons) \n",
    "\tarbSignalFull = np.zeros(rLen) \n",
    "\tstart = 0\n",
    "\tfor i in range(numOfSegments):\n",
    "\t\tnext = i < numOfSegments-1 and int(segmentArray[0][i+1]) or cons\n",
    "\t\t#arbSignalFixed[start:next] = np.linspace(segmentArray[1][i], segmentArray[2][i], next-start)\n",
    "\t\tscaledStart, scaledNext = int(rLen*(start/cons)), int(rLen*(next/cons))\n",
    "\t\tarbSignalFull[scaledStart:scaledNext] = np.linspace(segmentArray[1][i], segmentArray[2][i], scaledNext-scaledStart)\n",
    "\t\tstart = next\n",
    "\n",
    "\t# this signal needs to be converted to the length of the rawData\n",
    "\t\n",
    "\trawData = rawData/gain\n",
    "\tif mode == 0:\n",
    "\t\tresistance = (rawData*rSer)/(arbSignalFull-rawData)\n",
    "\telif mode == 1:\n",
    "\t\tresistance = arbSignalFull/(rawData-rSer)\n",
    "\tprint(resistance.mean())\n",
    "\tplt.plot(rawData)\n",
    "load_file(\"_old/test1_seg\")"
   ]
  },
  {
   "cell_type": "code",
   "execution_count": null,
   "metadata": {},
   "outputs": [],
   "source": []
  },
  {
   "cell_type": "code",
   "execution_count": null,
   "metadata": {},
   "outputs": [],
   "source": []
  }
 ],
 "metadata": {
  "kernelspec": {
   "display_name": "Python 3",
   "language": "python",
   "name": "python3"
  },
  "language_info": {
   "codemirror_mode": {
    "name": "ipython",
    "version": 3
   },
   "file_extension": ".py",
   "mimetype": "text/x-python",
   "name": "python",
   "nbconvert_exporter": "python",
   "pygments_lexer": "ipython3",
   "version": "3.12.3"
  }
 },
 "nbformat": 4,
 "nbformat_minor": 2
}
